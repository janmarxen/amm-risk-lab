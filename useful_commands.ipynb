{
 "cells": [
  {
   "cell_type": "markdown",
   "id": "695da5ce",
   "metadata": {},
   "source": [
    "# Useful Commands for AMM Risk Lab\n",
    "This notebook contains frequently used commands for data download, model training, finetuning, testing, and maintenance. Copy-paste or run in your terminal as needed."
   ]
  },
  {
   "cell_type": "markdown",
   "id": "0bddcf78",
   "metadata": {},
   "source": [
    "## Subgraph API and Pool Address\n",
    "- **API Key:** `d1762c97d76a973e078c5536742bd237`\n",
    "- **Subgraph ID:** `5zvR82QoaXYFyDEKLZ9t6v9adgnptxYpKpSbxtgVENFV`\n",
    "- **Pool Address:** `<poolAddress>`"
   ]
  },
  {
   "cell_type": "markdown",
   "id": "3d8450b2",
   "metadata": {},
   "source": [
    "## Sequential Data Download\n",
    "Run the data download script sequentially:"
   ]
  },
  {
   "cell_type": "code",
   "execution_count": null,
   "id": "5aa07839",
   "metadata": {
    "vscode": {
     "languageId": "bash"
    }
   },
   "outputs": [],
   "source": [
    "python3 -m python.ml.PLV.scripts.run_data_download"
   ]
  },
  {
   "cell_type": "code",
   "execution_count": null,
   "id": "0eec8c3e",
   "metadata": {
    "vscode": {
     "languageId": "bash"
    }
   },
   "outputs": [],
   "source": [
    "./python/ml/PLV/scripts/batch_run_data_download.sh"
   ]
  },
  {
   "cell_type": "markdown",
   "id": "70f5e5b5",
   "metadata": {},
   "source": [
    "### Sequential LSTM Scripts\n",
    "Run LSTM model scripts for liquidity and volume:"
   ]
  },
  {
   "cell_type": "code",
   "execution_count": null,
   "id": "36e74796",
   "metadata": {
    "vscode": {
     "languageId": "bash"
    }
   },
   "outputs": [],
   "source": [
    "./python/ml/PLV/scripts/lstm_runs/batch_run_liquidity.sh\n",
    "./python/ml/PLV/scripts/lstm_runs/batch_run_volume.sh\n",
    "./python/ml/PLV/scripts/lstm_runs/batch_run_gs_liquidity.sh\n",
    "./python/ml/PLV/scripts/lstm_runs/batch_run_gs_volume.sh"
   ]
  },
  {
   "cell_type": "markdown",
   "id": "a65bcabb",
   "metadata": {},
   "source": [
    "### Sequential Transformer Scripts\n",
    "Run transformer model scripts for liquidity and volume:"
   ]
  },
  {
   "cell_type": "code",
   "execution_count": null,
   "id": "19c268ae",
   "metadata": {
    "vscode": {
     "languageId": "bash"
    }
   },
   "outputs": [],
   "source": [
    "./python/ml/PLV/scripts/transformer_runs/batch_run_liquidity.sh\n",
    "./python/ml/PLV/scripts/transformer_runs/batch_run_volume.sh\n",
    "./python/ml/PLV/scripts/transformer_runs/batch_run_gs_liquidity.sh\n",
    "./python/ml/PLV/scripts/transformer_runs/batch_run_gs_volume.sh"
   ]
  },
  {
   "cell_type": "markdown",
   "id": "89efde12",
   "metadata": {},
   "source": [
    "## Distributed Scripts\n",
    "Run distributed training, finetuning, and testing jobs with SLURM:"
   ]
  },
  {
   "cell_type": "code",
   "execution_count": null,
   "id": "80cb39ac",
   "metadata": {
    "vscode": {
     "languageId": "bash"
    }
   },
   "outputs": [],
   "source": [
    "# Data download\n",
    "./python/ml/PLV/scripts/batch_run_data_download.sh"
   ]
  },
  {
   "cell_type": "markdown",
   "id": "5cf0b8a0",
   "metadata": {},
   "source": [
    "### Distributed Transformer Scripts"
   ]
  },
  {
   "cell_type": "markdown",
   "id": "2f22b70e",
   "metadata": {},
   "source": [
    "#### Pretrain Liquidity Model\n",
    "Pretrains a transformer model on all available pool data for liquidity prediction."
   ]
  },
  {
   "cell_type": "code",
   "execution_count": null,
   "id": "11dec5f2",
   "metadata": {
    "vscode": {
     "languageId": "bash"
    }
   },
   "outputs": [],
   "source": [
    "sbatch ./python/ml/PLV/scripts/transformer_runs/liquidity/batch_run_ddp_liquidity_pretraining.sbatch"
   ]
  },
  {
   "cell_type": "markdown",
   "id": "4b14771b",
   "metadata": {},
   "source": [
    "#### Finetune Liquidity Model\n",
    "Finetunes the pretrained transformer model on a specific pool address for improved accuracy."
   ]
  },
  {
   "cell_type": "code",
   "execution_count": null,
   "id": "4a47df0e",
   "metadata": {
    "vscode": {
     "languageId": "bash"
    }
   },
   "outputs": [],
   "source": [
    "sbatch ./python/ml/PLV/scripts/transformer_runs/liquidity/batch_run_ddp_liquidity_finetuning.sbatch"
   ]
  },
  {
   "cell_type": "markdown",
   "id": "976fab91",
   "metadata": {},
   "source": [
    "#### Test Finetuned Liquidity Model\n",
    "Tests the finetuned transformer model on the selected pool address to evaluate performance."
   ]
  },
  {
   "cell_type": "code",
   "execution_count": null,
   "id": "ad1b42bc",
   "metadata": {
    "vscode": {
     "languageId": "bash"
    }
   },
   "outputs": [],
   "source": [
    "sbatch ./python/ml/PLV/scripts/transformer_runs/liquidity/batch_run_liquidity_testing.sbatch"
   ]
  },
  {
   "cell_type": "markdown",
   "id": "911aac7d",
   "metadata": {},
   "source": [
    "#### Grid Search for Liquidity Model\n",
    "Runs a grid search to find the best hyperparameters for the transformer liquidity model."
   ]
  },
  {
   "cell_type": "code",
   "execution_count": null,
   "id": "dc4dac8e",
   "metadata": {
    "vscode": {
     "languageId": "bash"
    }
   },
   "outputs": [],
   "source": [
    "sbatch ./python/ml/PLV/scripts/transformer_runs/liquidity/batch_run_gs_liquidity.sbatch"
   ]
  },
  {
   "cell_type": "markdown",
   "id": "3e1f8581",
   "metadata": {},
   "source": [
    "## Grid Search and Results\n",
    "Check best model and clean up grid search logs/results:"
   ]
  },
  {
   "cell_type": "code",
   "execution_count": null,
   "id": "1fcce039",
   "metadata": {
    "vscode": {
     "languageId": "bash"
    }
   },
   "outputs": [],
   "source": [
    "python3 ./python/ml/PLV/scripts/collect_best_gs_result.py"
   ]
  },
  {
   "cell_type": "code",
   "execution_count": null,
   "id": "acc41641",
   "metadata": {
    "vscode": {
     "languageId": "bash"
    }
   },
   "outputs": [],
   "source": [
    "rm -rf /p/project1/training2529/marxen1/amm-risk-lab/python/ml/PLV/models/gs_logs\n",
    "rm -rf /p/project1/training2529/marxen1/amm-risk-lab/python/ml/PLV/models/gs_results"
   ]
  },
  {
   "cell_type": "markdown",
   "id": "c30caa61",
   "metadata": {},
   "source": [
    "## Job Status and Data Size\n",
    "Check SLURM job status and data file size:"
   ]
  },
  {
   "cell_type": "code",
   "execution_count": null,
   "id": "ae150409",
   "metadata": {
    "vscode": {
     "languageId": "bash"
    }
   },
   "outputs": [],
   "source": [
    "squeue -u $USER"
   ]
  },
  {
   "cell_type": "code",
   "execution_count": null,
   "id": "ab529162",
   "metadata": {
    "vscode": {
     "languageId": "bash"
    }
   },
   "outputs": [],
   "source": [
    "stat /p/scratch/training2529/uniswap_pools_data.h5"
   ]
  }
 ],
 "metadata": {
  "language_info": {
   "name": "python"
  }
 },
 "nbformat": 4,
 "nbformat_minor": 5
}
